{
 "cells": [
  {
   "cell_type": "code",
   "execution_count": 1,
   "metadata": {},
   "outputs": [],
   "source": [
    "# Importing all the necessary libraries.\n",
    "import matplotlib.pyplot as plt\n",
    "import seaborn as sn\n",
    "from sklearn.model_selection import train_test_split \n",
    "%matplotlib inline\n",
    "import warnings \n",
    "warnings.filterwarnings('ignore') \n",
    "import pandas as pd \n",
    "import numpy as np \n",
    "credit_df = pd.read_csv(\"loanStats.csv\") "
   ]
  },
  {
   "cell_type": "code",
   "execution_count": 2,
   "metadata": {},
   "outputs": [
    {
     "name": "stdout",
     "output_type": "stream",
     "text": [
      "<class 'pandas.core.frame.DataFrame'>\n",
      "RangeIndex: 104499 entries, 0 to 104498\n",
      "Data columns (total 14 columns):\n",
      "id                 104499 non-null int64\n",
      "member_id          104499 non-null int64\n",
      "loan_amnt          104499 non-null int64\n",
      "funded_amnt        104499 non-null int64\n",
      "funded_amnt_inv    104499 non-null int64\n",
      "term               104499 non-null int64\n",
      "int_rate           104499 non-null float64\n",
      "home_ownership     104499 non-null object\n",
      "annual_inc         104499 non-null int64\n",
      "purpose            104499 non-null object\n",
      "total_pymnt        104499 non-null float64\n",
      "total_rec_prncp    104499 non-null float64\n",
      "total_rec_int      104499 non-null float64\n",
      "loan_status        104499 non-null int64\n",
      "dtypes: float64(4), int64(8), object(2)\n",
      "memory usage: 11.2+ MB\n"
     ]
    }
   ],
   "source": [
    "#understanding the dataset\n",
    "credit_df.info()"
   ]
  },
  {
   "cell_type": "code",
   "execution_count": 3,
   "metadata": {},
   "outputs": [],
   "source": [
    "#ID columns will not be of any significance for the model so we remove it from the dataset\n",
    "credit_df=credit_df.drop(columns=['member_id','id'])"
   ]
  },
  {
   "cell_type": "code",
   "execution_count": 4,
   "metadata": {},
   "outputs": [
    {
     "data": {
      "text/plain": [
       "1    93692\n",
       "0    10807\n",
       "Name: loan_status, dtype: int64"
      ]
     },
     "execution_count": 4,
     "metadata": {},
     "output_type": "execute_result"
    }
   ],
   "source": [
    "#finding target variable count to check if the dataset is balanced or imbalanced\n",
    "credit_df.loan_status.value_counts() "
   ]
  },
  {
   "cell_type": "code",
   "execution_count": 5,
   "metadata": {},
   "outputs": [],
   "source": [
    "#the dataset is highly imbalanced so we upsample the dataset\n",
    "## Importing resample from *sklearn.utils* package. \n",
    "from sklearn.utils import resample \n",
    "# Separate the case of yes-subscribes and no-subscribes \n",
    "non_defaulters = credit_df[credit_df.loan_status == 1] \n",
    "defaulters = credit_df[credit_df.loan_status == 0] \n",
    "##Upsample the yes-subscribed cases. \n",
    "df_minority_upsampled = resample(defaulters, replace=True,  n_samples=80000) \n",
    "# Combine majority class with upsampled minority class \n",
    "credit_df = pd.concat([non_defaulters, df_minority_upsampled]) "
   ]
  },
  {
   "cell_type": "code",
   "execution_count": 6,
   "metadata": {},
   "outputs": [
    {
     "data": {
      "text/plain": [
       "1    93692\n",
       "0    80000\n",
       "Name: loan_status, dtype: int64"
      ]
     },
     "execution_count": 6,
     "metadata": {},
     "output_type": "execute_result"
    }
   ],
   "source": [
    "credit_df.loan_status.value_counts()"
   ]
  },
  {
   "cell_type": "code",
   "execution_count": 7,
   "metadata": {},
   "outputs": [
    {
     "data": {
      "text/plain": [
       "loan_amnt          0\n",
       "funded_amnt        0\n",
       "funded_amnt_inv    0\n",
       "term               0\n",
       "int_rate           0\n",
       "home_ownership     0\n",
       "annual_inc         0\n",
       "purpose            0\n",
       "total_pymnt        0\n",
       "total_rec_prncp    0\n",
       "total_rec_int      0\n",
       "loan_status        0\n",
       "dtype: int64"
      ]
     },
     "execution_count": 7,
     "metadata": {},
     "output_type": "execute_result"
    }
   ],
   "source": [
    "#checking for null values\n",
    "credit_df.isnull().sum()"
   ]
  },
  {
   "cell_type": "code",
   "execution_count": 8,
   "metadata": {},
   "outputs": [],
   "source": [
    "credit_df = credit_df.fillna(\" \")"
   ]
  },
  {
   "cell_type": "code",
   "execution_count": 9,
   "metadata": {},
   "outputs": [
    {
     "data": {
      "text/html": [
       "<div>\n",
       "<style scoped>\n",
       "    .dataframe tbody tr th:only-of-type {\n",
       "        vertical-align: middle;\n",
       "    }\n",
       "\n",
       "    .dataframe tbody tr th {\n",
       "        vertical-align: top;\n",
       "    }\n",
       "\n",
       "    .dataframe thead th {\n",
       "        text-align: right;\n",
       "    }\n",
       "</style>\n",
       "<table border=\"1\" class=\"dataframe\">\n",
       "  <thead>\n",
       "    <tr style=\"text-align: right;\">\n",
       "      <th></th>\n",
       "      <th>loan_amnt</th>\n",
       "      <th>funded_amnt</th>\n",
       "      <th>funded_amnt_inv</th>\n",
       "      <th>term</th>\n",
       "      <th>int_rate</th>\n",
       "      <th>home_ownership</th>\n",
       "      <th>annual_inc</th>\n",
       "      <th>purpose</th>\n",
       "      <th>total_pymnt</th>\n",
       "      <th>total_rec_prncp</th>\n",
       "      <th>total_rec_int</th>\n",
       "      <th>loan_status</th>\n",
       "    </tr>\n",
       "  </thead>\n",
       "  <tbody>\n",
       "    <tr>\n",
       "      <th>0</th>\n",
       "      <td>5000</td>\n",
       "      <td>5000</td>\n",
       "      <td>4975</td>\n",
       "      <td>36</td>\n",
       "      <td>10.65</td>\n",
       "      <td>OWN</td>\n",
       "      <td>1896</td>\n",
       "      <td>credit_card</td>\n",
       "      <td>5861.07</td>\n",
       "      <td>5000.00</td>\n",
       "      <td>861.07</td>\n",
       "      <td>1</td>\n",
       "    </tr>\n",
       "    <tr>\n",
       "      <th>2</th>\n",
       "      <td>2400</td>\n",
       "      <td>2400</td>\n",
       "      <td>2400</td>\n",
       "      <td>36</td>\n",
       "      <td>15.96</td>\n",
       "      <td>OWN</td>\n",
       "      <td>3300</td>\n",
       "      <td>other</td>\n",
       "      <td>3003.65</td>\n",
       "      <td>2400.00</td>\n",
       "      <td>603.65</td>\n",
       "      <td>1</td>\n",
       "    </tr>\n",
       "    <tr>\n",
       "      <th>3</th>\n",
       "      <td>10000</td>\n",
       "      <td>10000</td>\n",
       "      <td>10000</td>\n",
       "      <td>36</td>\n",
       "      <td>13.49</td>\n",
       "      <td>OWN</td>\n",
       "      <td>3500</td>\n",
       "      <td>other</td>\n",
       "      <td>12226.30</td>\n",
       "      <td>10000.00</td>\n",
       "      <td>2209.33</td>\n",
       "      <td>1</td>\n",
       "    </tr>\n",
       "    <tr>\n",
       "      <th>4</th>\n",
       "      <td>3000</td>\n",
       "      <td>3000</td>\n",
       "      <td>3000</td>\n",
       "      <td>60</td>\n",
       "      <td>12.69</td>\n",
       "      <td>OWN</td>\n",
       "      <td>3600</td>\n",
       "      <td>other</td>\n",
       "      <td>2496.48</td>\n",
       "      <td>1615.66</td>\n",
       "      <td>880.82</td>\n",
       "      <td>1</td>\n",
       "    </tr>\n",
       "    <tr>\n",
       "      <th>5</th>\n",
       "      <td>5000</td>\n",
       "      <td>5000</td>\n",
       "      <td>5000</td>\n",
       "      <td>36</td>\n",
       "      <td>7.90</td>\n",
       "      <td>OWN</td>\n",
       "      <td>4000</td>\n",
       "      <td>other</td>\n",
       "      <td>5631.38</td>\n",
       "      <td>5000.00</td>\n",
       "      <td>631.38</td>\n",
       "      <td>1</td>\n",
       "    </tr>\n",
       "  </tbody>\n",
       "</table>\n",
       "</div>"
      ],
      "text/plain": [
       "   loan_amnt  funded_amnt  funded_amnt_inv  term  int_rate home_ownership  \\\n",
       "0       5000         5000             4975    36     10.65            OWN   \n",
       "2       2400         2400             2400    36     15.96            OWN   \n",
       "3      10000        10000            10000    36     13.49            OWN   \n",
       "4       3000         3000             3000    60     12.69            OWN   \n",
       "5       5000         5000             5000    36      7.90            OWN   \n",
       "\n",
       "   annual_inc      purpose  total_pymnt  total_rec_prncp  total_rec_int  \\\n",
       "0        1896  credit_card      5861.07          5000.00         861.07   \n",
       "2        3300        other      3003.65          2400.00         603.65   \n",
       "3        3500        other     12226.30         10000.00        2209.33   \n",
       "4        3600        other      2496.48          1615.66         880.82   \n",
       "5        4000        other      5631.38          5000.00         631.38   \n",
       "\n",
       "   loan_status  \n",
       "0            1  \n",
       "2            1  \n",
       "3            1  \n",
       "4            1  \n",
       "5            1  "
      ]
     },
     "execution_count": 9,
     "metadata": {},
     "output_type": "execute_result"
    }
   ],
   "source": [
    "#top 5 instances of the dataset\n",
    "credit_df.head()"
   ]
  },
  {
   "cell_type": "code",
   "execution_count": 10,
   "metadata": {},
   "outputs": [
    {
     "name": "stdout",
     "output_type": "stream",
     "text": [
      "Positive examples = 93692\n",
      "Negative examples = 80000\n",
      "Proportion of negative to positive examples = 85.39%\n"
     ]
    },
    {
     "data": {
      "image/png": "[encoded data removed]",
      "text/plain": [
       "<Figure size 576x432 with 1 Axes>"
      ]
     },
     "metadata": {
      "needs_background": "light"
     },
     "output_type": "display_data"
    }
   ],
   "source": [
    "# Get number of positve and negative examples\n",
    "pos = credit_df[credit_df[\"loan_status\"] == 1].shape[0]\n",
    "neg = credit_df[credit_df[\"loan_status\"] == 0].shape[0]\n",
    "print(f\"Positive examples = {pos}\")\n",
    "print(f\"Negative examples = {neg}\")\n",
    "print(f\"Proportion of negative to positive examples = {(neg / pos) * 100:.2f}%\")\n",
    "plt.figure(figsize=(8, 6))\n",
    "sn.countplot(credit_df[\"loan_status\"])\n",
    "plt.xticks((0, 1), [\"Not Paid fully\", \"Paid fully\"])\n",
    "plt.xlabel(\"\")\n",
    "plt.ylabel(\"Count\")\n",
    "plt.title(\"Class counts\", y=1, fontdict={\"fontsize\": 20});"
   ]
  },
  {
   "cell_type": "code",
   "execution_count": 11,
   "metadata": {},
   "outputs": [],
   "source": [
    "#replacing missing values with mean of their coulmns.\n",
    "credit_df['loan_amnt'].fillna((credit_df['loan_amnt'].mean()), inplace=True)\n",
    "credit_df['funded_amnt'].fillna((credit_df['funded_amnt'].mean()), inplace=True)\n",
    "credit_df['funded_amnt_inv'].fillna((credit_df['funded_amnt_inv'].mean()), inplace=True)\n",
    "credit_df['term'].fillna((credit_df['term'].mean()), inplace=True)\n",
    "credit_df['annual_inc'].fillna((credit_df['annual_inc'].mean()), inplace=True)\n",
    "credit_df['int_rate'].fillna((credit_df['int_rate'].mean()), inplace=True)\n",
    "credit_df['home_ownership'].fillna(('RENT'), inplace=True)\n",
    "credit_df['loan_status'].fillna((0), inplace=True)"
   ]
  },
  {
   "cell_type": "code",
   "execution_count": 12,
   "metadata": {},
   "outputs": [
    {
     "data": {
      "text/html": [
       "<div>\n",
       "<style scoped>\n",
       "    .dataframe tbody tr th:only-of-type {\n",
       "        vertical-align: middle;\n",
       "    }\n",
       "\n",
       "    .dataframe tbody tr th {\n",
       "        vertical-align: top;\n",
       "    }\n",
       "\n",
       "    .dataframe thead th {\n",
       "        text-align: right;\n",
       "    }\n",
       "</style>\n",
       "<table border=\"1\" class=\"dataframe\">\n",
       "  <thead>\n",
       "    <tr style=\"text-align: right;\">\n",
       "      <th></th>\n",
       "      <th>loan_amnt</th>\n",
       "      <th>funded_amnt</th>\n",
       "      <th>funded_amnt_inv</th>\n",
       "      <th>term</th>\n",
       "      <th>int_rate</th>\n",
       "      <th>annual_inc</th>\n",
       "      <th>total_pymnt</th>\n",
       "      <th>total_rec_prncp</th>\n",
       "      <th>total_rec_int</th>\n",
       "      <th>loan_status</th>\n",
       "    </tr>\n",
       "  </thead>\n",
       "  <tbody>\n",
       "    <tr>\n",
       "      <th>count</th>\n",
       "      <td>173692.000000</td>\n",
       "      <td>173692.000000</td>\n",
       "      <td>173692.000000</td>\n",
       "      <td>173692.000000</td>\n",
       "      <td>173692.000000</td>\n",
       "      <td>1.736920e+05</td>\n",
       "      <td>173692.000000</td>\n",
       "      <td>173692.000000</td>\n",
       "      <td>173692.000000</td>\n",
       "      <td>173692.000000</td>\n",
       "    </tr>\n",
       "    <tr>\n",
       "      <th>mean</th>\n",
       "      <td>13149.709831</td>\n",
       "      <td>13006.892229</td>\n",
       "      <td>12545.275931</td>\n",
       "      <td>43.436336</td>\n",
       "      <td>14.201731</td>\n",
       "      <td>6.884582e+04</td>\n",
       "      <td>8047.757672</td>\n",
       "      <td>5754.318753</td>\n",
       "      <td>2104.888519</td>\n",
       "      <td>0.539415</td>\n",
       "    </tr>\n",
       "    <tr>\n",
       "      <th>std</th>\n",
       "      <td>8154.229606</td>\n",
       "      <td>8059.544394</td>\n",
       "      <td>8162.321793</td>\n",
       "      <td>11.098364</td>\n",
       "      <td>4.401154</td>\n",
       "      <td>7.085443e+04</td>\n",
       "      <td>6759.447332</td>\n",
       "      <td>5619.299763</td>\n",
       "      <td>2089.618080</td>\n",
       "      <td>0.498446</td>\n",
       "    </tr>\n",
       "    <tr>\n",
       "      <th>min</th>\n",
       "      <td>500.000000</td>\n",
       "      <td>500.000000</td>\n",
       "      <td>0.000000</td>\n",
       "      <td>36.000000</td>\n",
       "      <td>5.420000</td>\n",
       "      <td>1.896000e+03</td>\n",
       "      <td>0.000000</td>\n",
       "      <td>0.000000</td>\n",
       "      <td>0.000000</td>\n",
       "      <td>0.000000</td>\n",
       "    </tr>\n",
       "    <tr>\n",
       "      <th>25%</th>\n",
       "      <td>7000.000000</td>\n",
       "      <td>6850.000000</td>\n",
       "      <td>6000.000000</td>\n",
       "      <td>36.000000</td>\n",
       "      <td>10.990000</td>\n",
       "      <td>4.200000e+04</td>\n",
       "      <td>3426.990000</td>\n",
       "      <td>2010.840000</td>\n",
       "      <td>737.107500</td>\n",
       "      <td>0.000000</td>\n",
       "    </tr>\n",
       "    <tr>\n",
       "      <th>50%</th>\n",
       "      <td>11400.000000</td>\n",
       "      <td>11200.000000</td>\n",
       "      <td>10569.000000</td>\n",
       "      <td>36.000000</td>\n",
       "      <td>13.980000</td>\n",
       "      <td>5.700000e+04</td>\n",
       "      <td>6100.780000</td>\n",
       "      <td>3943.570000</td>\n",
       "      <td>1434.835000</td>\n",
       "      <td>1.000000</td>\n",
       "    </tr>\n",
       "    <tr>\n",
       "      <th>75%</th>\n",
       "      <td>18000.000000</td>\n",
       "      <td>18000.000000</td>\n",
       "      <td>17500.000000</td>\n",
       "      <td>60.000000</td>\n",
       "      <td>17.100000</td>\n",
       "      <td>8.260000e+04</td>\n",
       "      <td>10620.300000</td>\n",
       "      <td>7544.620000</td>\n",
       "      <td>2722.620000</td>\n",
       "      <td>1.000000</td>\n",
       "    </tr>\n",
       "    <tr>\n",
       "      <th>max</th>\n",
       "      <td>35000.000000</td>\n",
       "      <td>35000.000000</td>\n",
       "      <td>35000.000000</td>\n",
       "      <td>60.000000</td>\n",
       "      <td>26.060000</td>\n",
       "      <td>6.000000e+06</td>\n",
       "      <td>55758.200000</td>\n",
       "      <td>35000.000000</td>\n",
       "      <td>20848.700000</td>\n",
       "      <td>1.000000</td>\n",
       "    </tr>\n",
       "  </tbody>\n",
       "</table>\n",
       "</div>"
      ],
      "text/plain": [
       "           loan_amnt    funded_amnt  funded_amnt_inv           term  \\\n",
       "count  173692.000000  173692.000000    173692.000000  173692.000000   \n",
       "mean    13149.709831   13006.892229     12545.275931      43.436336   \n",
       "std      8154.229606    8059.544394      8162.321793      11.098364   \n",
       "min       500.000000     500.000000         0.000000      36.000000   \n",
       "25%      7000.000000    6850.000000      6000.000000      36.000000   \n",
       "50%     11400.000000   11200.000000     10569.000000      36.000000   \n",
       "75%     18000.000000   18000.000000     17500.000000      60.000000   \n",
       "max     35000.000000   35000.000000     35000.000000      60.000000   \n",
       "\n",
       "            int_rate    annual_inc    total_pymnt  total_rec_prncp  \\\n",
       "count  173692.000000  1.736920e+05  173692.000000    173692.000000   \n",
       "mean       14.201731  6.884582e+04    8047.757672      5754.318753   \n",
       "std         4.401154  7.085443e+04    6759.447332      5619.299763   \n",
       "min         5.420000  1.896000e+03       0.000000         0.000000   \n",
       "25%        10.990000  4.200000e+04    3426.990000      2010.840000   \n",
       "50%        13.980000  5.700000e+04    6100.780000      3943.570000   \n",
       "75%        17.100000  8.260000e+04   10620.300000      7544.620000   \n",
       "max        26.060000  6.000000e+06   55758.200000     35000.000000   \n",
       "\n",
       "       total_rec_int    loan_status  \n",
       "count  173692.000000  173692.000000  \n",
       "mean     2104.888519       0.539415  \n",
       "std      2089.618080       0.498446  \n",
       "min         0.000000       0.000000  \n",
       "25%       737.107500       0.000000  \n",
       "50%      1434.835000       1.000000  \n",
       "75%      2722.620000       1.000000  \n",
       "max     20848.700000       1.000000  "
      ]
     },
     "execution_count": 12,
     "metadata": {},
     "output_type": "execute_result"
    }
   ],
   "source": [
    "credit_df.describe()"
   ]
  },
  {
   "cell_type": "code",
   "execution_count": 13,
   "metadata": {},
   "outputs": [
    {
     "name": "stdout",
     "output_type": "stream",
     "text": [
      "loan_amnt          11000.0000\n",
      "funded_amnt        11150.0000\n",
      "funded_amnt_inv    11500.0000\n",
      "term                  24.0000\n",
      "int_rate               6.1100\n",
      "annual_inc         40600.0000\n",
      "total_pymnt         7193.3100\n",
      "total_rec_prncp     5533.7800\n",
      "total_rec_int       1985.5125\n",
      "loan_status            1.0000\n",
      "dtype: float64\n"
     ]
    }
   ],
   "source": [
    "#treating outliers using quantriles\n",
    "Q1 = credit_df.quantile(0.25)\n",
    "Q3 = credit_df.quantile(0.75)\n",
    "IQR = Q3 - Q1\n",
    "print(IQR)"
   ]
  },
  {
   "cell_type": "code",
   "execution_count": 14,
   "metadata": {},
   "outputs": [
    {
     "data": {
      "text/plain": [
       "(144493, 12)"
      ]
     },
     "execution_count": 14,
     "metadata": {},
     "output_type": "execute_result"
    }
   ],
   "source": [
    "credit_df = credit_df[~((credit_df < (Q1 - 1.5 * IQR)) |(credit_df > (Q3 + 1.5 * IQR))).any(axis=1)]\n",
    "credit_df.shape"
   ]
  },
  {
   "cell_type": "code",
   "execution_count": 15,
   "metadata": {},
   "outputs": [
    {
     "data": {
      "text/html": [
       "<div>\n",
       "<style scoped>\n",
       "    .dataframe tbody tr th:only-of-type {\n",
       "        vertical-align: middle;\n",
       "    }\n",
       "\n",
       "    .dataframe tbody tr th {\n",
       "        vertical-align: top;\n",
       "    }\n",
       "\n",
       "    .dataframe thead th {\n",
       "        text-align: right;\n",
       "    }\n",
       "</style>\n",
       "<table border=\"1\" class=\"dataframe\">\n",
       "  <thead>\n",
       "    <tr style=\"text-align: right;\">\n",
       "      <th></th>\n",
       "      <th>loan_amnt</th>\n",
       "      <th>funded_amnt</th>\n",
       "      <th>funded_amnt_inv</th>\n",
       "      <th>term</th>\n",
       "      <th>int_rate</th>\n",
       "      <th>annual_inc</th>\n",
       "      <th>total_pymnt</th>\n",
       "      <th>total_rec_prncp</th>\n",
       "      <th>total_rec_int</th>\n",
       "      <th>loan_status</th>\n",
       "    </tr>\n",
       "  </thead>\n",
       "  <tbody>\n",
       "    <tr>\n",
       "      <th>count</th>\n",
       "      <td>144493.000000</td>\n",
       "      <td>144493.000000</td>\n",
       "      <td>144493.000000</td>\n",
       "      <td>144493.000000</td>\n",
       "      <td>144493.000000</td>\n",
       "      <td>144493.000000</td>\n",
       "      <td>144493.000000</td>\n",
       "      <td>144493.000000</td>\n",
       "      <td>144493.000000</td>\n",
       "      <td>144493.000000</td>\n",
       "    </tr>\n",
       "    <tr>\n",
       "      <th>mean</th>\n",
       "      <td>11325.323199</td>\n",
       "      <td>11200.017648</td>\n",
       "      <td>10732.571336</td>\n",
       "      <td>42.408393</td>\n",
       "      <td>13.787697</td>\n",
       "      <td>61814.130615</td>\n",
       "      <td>6247.310271</td>\n",
       "      <td>4478.870687</td>\n",
       "      <td>1597.202651</td>\n",
       "      <td>0.514475</td>\n",
       "    </tr>\n",
       "    <tr>\n",
       "      <th>std</th>\n",
       "      <td>6656.760061</td>\n",
       "      <td>6569.707161</td>\n",
       "      <td>6667.163785</td>\n",
       "      <td>10.617661</td>\n",
       "      <td>4.212431</td>\n",
       "      <td>27223.714442</td>\n",
       "      <td>4123.118564</td>\n",
       "      <td>3539.193035</td>\n",
       "      <td>1241.542853</td>\n",
       "      <td>0.499792</td>\n",
       "    </tr>\n",
       "    <tr>\n",
       "      <th>min</th>\n",
       "      <td>500.000000</td>\n",
       "      <td>500.000000</td>\n",
       "      <td>0.000000</td>\n",
       "      <td>36.000000</td>\n",
       "      <td>5.420000</td>\n",
       "      <td>1896.000000</td>\n",
       "      <td>0.000000</td>\n",
       "      <td>0.000000</td>\n",
       "      <td>0.000000</td>\n",
       "      <td>0.000000</td>\n",
       "    </tr>\n",
       "    <tr>\n",
       "      <th>25%</th>\n",
       "      <td>6000.000000</td>\n",
       "      <td>6000.000000</td>\n",
       "      <td>5556.000000</td>\n",
       "      <td>36.000000</td>\n",
       "      <td>10.990000</td>\n",
       "      <td>42000.000000</td>\n",
       "      <td>3087.900000</td>\n",
       "      <td>1829.380000</td>\n",
       "      <td>663.630000</td>\n",
       "      <td>0.000000</td>\n",
       "    </tr>\n",
       "    <tr>\n",
       "      <th>50%</th>\n",
       "      <td>10000.000000</td>\n",
       "      <td>10000.000000</td>\n",
       "      <td>9975.000000</td>\n",
       "      <td>36.000000</td>\n",
       "      <td>13.670000</td>\n",
       "      <td>55000.000000</td>\n",
       "      <td>5400.720000</td>\n",
       "      <td>3473.960000</td>\n",
       "      <td>1258.490000</td>\n",
       "      <td>1.000000</td>\n",
       "    </tr>\n",
       "    <tr>\n",
       "      <th>75%</th>\n",
       "      <td>15000.000000</td>\n",
       "      <td>15000.000000</td>\n",
       "      <td>14953.000000</td>\n",
       "      <td>60.000000</td>\n",
       "      <td>16.290000</td>\n",
       "      <td>78000.000000</td>\n",
       "      <td>8620.120000</td>\n",
       "      <td>6203.420000</td>\n",
       "      <td>2214.370000</td>\n",
       "      <td>1.000000</td>\n",
       "    </tr>\n",
       "    <tr>\n",
       "      <th>max</th>\n",
       "      <td>34475.000000</td>\n",
       "      <td>34475.000000</td>\n",
       "      <td>34475.000000</td>\n",
       "      <td>60.000000</td>\n",
       "      <td>26.060000</td>\n",
       "      <td>143500.000000</td>\n",
       "      <td>21215.100000</td>\n",
       "      <td>15825.000000</td>\n",
       "      <td>5700.600000</td>\n",
       "      <td>1.000000</td>\n",
       "    </tr>\n",
       "  </tbody>\n",
       "</table>\n",
       "</div>"
      ],
      "text/plain": [
       "           loan_amnt    funded_amnt  funded_amnt_inv           term  \\\n",
       "count  144493.000000  144493.000000    144493.000000  144493.000000   \n",
       "mean    11325.323199   11200.017648     10732.571336      42.408393   \n",
       "std      6656.760061    6569.707161      6667.163785      10.617661   \n",
       "min       500.000000     500.000000         0.000000      36.000000   \n",
       "25%      6000.000000    6000.000000      5556.000000      36.000000   \n",
       "50%     10000.000000   10000.000000      9975.000000      36.000000   \n",
       "75%     15000.000000   15000.000000     14953.000000      60.000000   \n",
       "max     34475.000000   34475.000000     34475.000000      60.000000   \n",
       "\n",
       "            int_rate     annual_inc    total_pymnt  total_rec_prncp  \\\n",
       "count  144493.000000  144493.000000  144493.000000    144493.000000   \n",
       "mean       13.787697   61814.130615    6247.310271      4478.870687   \n",
       "std         4.212431   27223.714442    4123.118564      3539.193035   \n",
       "min         5.420000    1896.000000       0.000000         0.000000   \n",
       "25%        10.990000   42000.000000    3087.900000      1829.380000   \n",
       "50%        13.670000   55000.000000    5400.720000      3473.960000   \n",
       "75%        16.290000   78000.000000    8620.120000      6203.420000   \n",
       "max        26.060000  143500.000000   21215.100000     15825.000000   \n",
       "\n",
       "       total_rec_int    loan_status  \n",
       "count  144493.000000  144493.000000  \n",
       "mean     1597.202651       0.514475  \n",
       "std      1241.542853       0.499792  \n",
       "min         0.000000       0.000000  \n",
       "25%       663.630000       0.000000  \n",
       "50%      1258.490000       1.000000  \n",
       "75%      2214.370000       1.000000  \n",
       "max      5700.600000       1.000000  "
      ]
     },
     "execution_count": 15,
     "metadata": {},
     "output_type": "execute_result"
    }
   ],
   "source": [
    "credit_df.describe()"
   ]
  },
  {
   "cell_type": "code",
   "execution_count": 16,
   "metadata": {},
   "outputs": [
    {
     "data": {
      "text/plain": [
       "loan_amnt            int64\n",
       "funded_amnt          int64\n",
       "funded_amnt_inv      int64\n",
       "term                 int64\n",
       "int_rate           float64\n",
       "home_ownership       int32\n",
       "annual_inc           int64\n",
       "purpose              int32\n",
       "total_pymnt        float64\n",
       "total_rec_prncp    float64\n",
       "total_rec_int      float64\n",
       "loan_status          int64\n",
       "dtype: object"
      ]
     },
     "execution_count": 16,
     "metadata": {},
     "output_type": "execute_result"
    }
   ],
   "source": [
    "#converting categorical variables to numeric using label encoding\n",
    "from sklearn import preprocessing\n",
    "from sklearn.preprocessing import LabelEncoder\n",
    "cat=['home_ownership','purpose']\n",
    "for var in cat:\n",
    "    le = preprocessing.LabelEncoder()\n",
    "    credit_df[var]=le.fit_transform(credit_df[var].astype('str'))\n",
    "credit_df.dtypes"
   ]
  },
  {
   "cell_type": "code",
   "execution_count": 17,
   "metadata": {},
   "outputs": [
    {
     "data": {
      "text/html": [
       "<div>\n",
       "<style scoped>\n",
       "    .dataframe tbody tr th:only-of-type {\n",
       "        vertical-align: middle;\n",
       "    }\n",
       "\n",
       "    .dataframe tbody tr th {\n",
       "        vertical-align: top;\n",
       "    }\n",
       "\n",
       "    .dataframe thead th {\n",
       "        text-align: right;\n",
       "    }\n",
       "</style>\n",
       "<table border=\"1\" class=\"dataframe\">\n",
       "  <thead>\n",
       "    <tr style=\"text-align: right;\">\n",
       "      <th></th>\n",
       "      <th>loan_amnt</th>\n",
       "      <th>funded_amnt</th>\n",
       "      <th>funded_amnt_inv</th>\n",
       "      <th>term</th>\n",
       "      <th>int_rate</th>\n",
       "      <th>home_ownership</th>\n",
       "      <th>annual_inc</th>\n",
       "      <th>purpose</th>\n",
       "      <th>total_pymnt</th>\n",
       "      <th>total_rec_prncp</th>\n",
       "      <th>total_rec_int</th>\n",
       "      <th>loan_status</th>\n",
       "    </tr>\n",
       "  </thead>\n",
       "  <tbody>\n",
       "    <tr>\n",
       "      <th>0</th>\n",
       "      <td>5000</td>\n",
       "      <td>5000</td>\n",
       "      <td>4975</td>\n",
       "      <td>36</td>\n",
       "      <td>10.65</td>\n",
       "      <td>1</td>\n",
       "      <td>1896</td>\n",
       "      <td>0</td>\n",
       "      <td>5861.07</td>\n",
       "      <td>5000.00</td>\n",
       "      <td>861.07</td>\n",
       "      <td>1</td>\n",
       "    </tr>\n",
       "    <tr>\n",
       "      <th>2</th>\n",
       "      <td>2400</td>\n",
       "      <td>2400</td>\n",
       "      <td>2400</td>\n",
       "      <td>36</td>\n",
       "      <td>15.96</td>\n",
       "      <td>1</td>\n",
       "      <td>3300</td>\n",
       "      <td>3</td>\n",
       "      <td>3003.65</td>\n",
       "      <td>2400.00</td>\n",
       "      <td>603.65</td>\n",
       "      <td>1</td>\n",
       "    </tr>\n",
       "    <tr>\n",
       "      <th>3</th>\n",
       "      <td>10000</td>\n",
       "      <td>10000</td>\n",
       "      <td>10000</td>\n",
       "      <td>36</td>\n",
       "      <td>13.49</td>\n",
       "      <td>1</td>\n",
       "      <td>3500</td>\n",
       "      <td>3</td>\n",
       "      <td>12226.30</td>\n",
       "      <td>10000.00</td>\n",
       "      <td>2209.33</td>\n",
       "      <td>1</td>\n",
       "    </tr>\n",
       "    <tr>\n",
       "      <th>4</th>\n",
       "      <td>3000</td>\n",
       "      <td>3000</td>\n",
       "      <td>3000</td>\n",
       "      <td>60</td>\n",
       "      <td>12.69</td>\n",
       "      <td>1</td>\n",
       "      <td>3600</td>\n",
       "      <td>3</td>\n",
       "      <td>2496.48</td>\n",
       "      <td>1615.66</td>\n",
       "      <td>880.82</td>\n",
       "      <td>1</td>\n",
       "    </tr>\n",
       "    <tr>\n",
       "      <th>5</th>\n",
       "      <td>5000</td>\n",
       "      <td>5000</td>\n",
       "      <td>5000</td>\n",
       "      <td>36</td>\n",
       "      <td>7.90</td>\n",
       "      <td>1</td>\n",
       "      <td>4000</td>\n",
       "      <td>3</td>\n",
       "      <td>5631.38</td>\n",
       "      <td>5000.00</td>\n",
       "      <td>631.38</td>\n",
       "      <td>1</td>\n",
       "    </tr>\n",
       "  </tbody>\n",
       "</table>\n",
       "</div>"
      ],
      "text/plain": [
       "   loan_amnt  funded_amnt  funded_amnt_inv  term  int_rate  home_ownership  \\\n",
       "0       5000         5000             4975    36     10.65               1   \n",
       "2       2400         2400             2400    36     15.96               1   \n",
       "3      10000        10000            10000    36     13.49               1   \n",
       "4       3000         3000             3000    60     12.69               1   \n",
       "5       5000         5000             5000    36      7.90               1   \n",
       "\n",
       "   annual_inc  purpose  total_pymnt  total_rec_prncp  total_rec_int  \\\n",
       "0        1896        0      5861.07          5000.00         861.07   \n",
       "2        3300        3      3003.65          2400.00         603.65   \n",
       "3        3500        3     12226.30         10000.00        2209.33   \n",
       "4        3600        3      2496.48          1615.66         880.82   \n",
       "5        4000        3      5631.38          5000.00         631.38   \n",
       "\n",
       "   loan_status  \n",
       "0            1  \n",
       "2            1  \n",
       "3            1  \n",
       "4            1  \n",
       "5            1  "
      ]
     },
     "execution_count": 17,
     "metadata": {},
     "output_type": "execute_result"
    }
   ],
   "source": [
    "#final dataset after preprocessing\n",
    "credit_df.head()"
   ]
  },
  {
   "cell_type": "code",
   "execution_count": 18,
   "metadata": {},
   "outputs": [
    {
     "name": "stdout",
     "output_type": "stream",
     "text": [
      "(115594, 11)\n",
      "(28899, 11)\n",
      "(115594, 1)\n",
      "(28899, 1)\n"
     ]
    }
   ],
   "source": [
    "#spliting variables into features and targets and hennce into train and test sets\n",
    "features = credit_df.drop(columns=['loan_status'])\n",
    "targets = pd.DataFrame(credit_df['loan_status'])\n",
    "\n",
    "# Split into 80% training and 20% testing set\n",
    "X_train, X_test, y_train, y_test = train_test_split(features, targets, test_size = 0.2)\n",
    "\n",
    "print(X_train.shape)\n",
    "print(X_test.shape)\n",
    "print(y_train.shape)\n",
    "print(y_test.shape)"
   ]
  },
  {
   "cell_type": "code",
   "execution_count": 19,
   "metadata": {},
   "outputs": [],
   "source": [
    "# # # Models to Evaluate\n",
    "# We will compare three different machine learning Cassification models:\n",
    "# 1 - Naive Bayes\n",
    "# 2 - Logistic Regression\n",
    "# 3 - Random Forest Classification\n",
    "\n",
    "# Function to calculate mean absolute error\n",
    "def cross_val(X_train, y_train, model):\n",
    "    # Applying k-Fold Cross Validation\n",
    "    from sklearn.model_selection import cross_val_score\n",
    "    accuracies = cross_val_score(estimator = model, X = X_train, y = y_train, cv = 5)\n",
    "    return accuracies.mean()\n",
    "\n",
    "# Takes in a model, trains the model, and evaluates the model on the test set\n",
    "def fit_and_evaluate(model):\n",
    "    \n",
    "    # Train the model\n",
    "    model.fit(X_train, y_train)\n",
    "    \n",
    "    # Make predictions and evalute\n",
    "    model_pred = model.predict(X_test)\n",
    "    model_cross = cross_val(X_train, y_train, model)\n",
    "    \n",
    "    # Return the performance metric\n",
    "    return model_cross"
   ]
  },
  {
   "cell_type": "code",
   "execution_count": 20,
   "metadata": {},
   "outputs": [],
   "source": [
    "# # Feature Scaling\n",
    "from sklearn.preprocessing import StandardScaler\n",
    "sc = StandardScaler()\n",
    "X_train = sc.fit_transform(X_train)\n",
    "X_test = sc.transform(X_test)"
   ]
  },
  {
   "cell_type": "code",
   "execution_count": 21,
   "metadata": {},
   "outputs": [],
   "source": [
    "# Convert y to one-dimensional array (vector)\n",
    "y_train = np.array(y_train).reshape((-1, ))\n",
    "y_test = np.array(y_test).reshape((-1, ))"
   ]
  },
  {
   "cell_type": "code",
   "execution_count": 22,
   "metadata": {},
   "outputs": [
    {
     "name": "stdout",
     "output_type": "stream",
     "text": [
      "Naive Bayes Performance on the test set: Cross Validation Score = 0.7045\n"
     ]
    }
   ],
   "source": [
    "# # Naive Bayes\n",
    "from sklearn.naive_bayes import GaussianNB\n",
    "naive = GaussianNB()\n",
    "naive_cross = fit_and_evaluate(naive)\n",
    "\n",
    "print('Naive Bayes Performance on the test set: Cross Validation Score = %0.4f' % naive_cross)"
   ]
  },
  {
   "cell_type": "code",
   "execution_count": 23,
   "metadata": {},
   "outputs": [
    {
     "name": "stdout",
     "output_type": "stream",
     "text": [
      "logistic regression Classification Performance on the test set: Cross Validation Score = 0.8201\n"
     ]
    }
   ],
   "source": [
    "# # logistic regression Classification\n",
    "from sklearn.linear_model import LogisticRegression\n",
    "lr = LogisticRegression()\n",
    "lr_cross = fit_and_evaluate(lr)\n",
    "\n",
    "print('logistic regression Classification Performance on the test set: Cross Validation Score = %0.4f' % lr_cross)"
   ]
  },
  {
   "cell_type": "code",
   "execution_count": 24,
   "metadata": {},
   "outputs": [],
   "source": [
    "pred_y_lr = lr.predict(X_test) "
   ]
  },
  {
   "cell_type": "code",
   "execution_count": 25,
   "metadata": {},
   "outputs": [],
   "source": [
    "from sklearn import metrics\n",
    "import matplotlib.pyplot as plt\n",
    "import seaborn as sn\n",
    "%matplotlib inline\n",
    "def draw_cm( actual, predicted ):      \n",
    "    cm = metrics.confusion_matrix( actual, predicted, [1,0] )    \n",
    "    sn.heatmap(cm, annot=True,  fmt='.2f',  xticklabels = [\"Good credit\", \"Bad Credit\"] , yticklabels = [\"Good credit\", \"Bad Credit\"] )    \n",
    "    plt.ylabel('True label')    \n",
    "    plt.xlabel('Predicted label')    \n",
    "    plt.show() "
   ]
  },
  {
   "cell_type": "code",
   "execution_count": 26,
   "metadata": {},
   "outputs": [
    {
     "data": {
      "image/png": "[encoded data removed]",
      "text/plain": [
       "<Figure size 432x288 with 2 Axes>"
      ]
     },
     "metadata": {
      "needs_background": "light"
     },
     "output_type": "display_data"
    },
    {
     "name": "stdout",
     "output_type": "stream",
     "text": [
      "              precision    recall  f1-score   support\n",
      "\n",
      "           0       0.84      0.78      0.81     13955\n",
      "           1       0.81      0.86      0.83     14944\n",
      "\n",
      "    accuracy                           0.82     28899\n",
      "   macro avg       0.82      0.82      0.82     28899\n",
      "weighted avg       0.82      0.82      0.82     28899\n",
      "\n"
     ]
    }
   ],
   "source": [
    "#drawing confusion matrix\n",
    "cm = draw_cm( y_test, pred_y_lr ) \n",
    "cm\n",
    "print( metrics.classification_report( y_test, pred_y_lr) ) "
   ]
  },
  {
   "cell_type": "code",
   "execution_count": 27,
   "metadata": {},
   "outputs": [
    {
     "name": "stdout",
     "output_type": "stream",
     "text": [
      "Random Forest Performance on the test set: Cross Validation Score = 0.9944\n"
     ]
    }
   ],
   "source": [
    "# # Random Forest Classification\n",
    "from sklearn.ensemble import RandomForestClassifier\n",
    "random = RandomForestClassifier(n_estimators = 10, criterion = 'entropy')\n",
    "random_cross = fit_and_evaluate(random)\n",
    "\n",
    "print('Random Forest Performance on the test set: Cross Validation Score = %0.4f' % random_cross)"
   ]
  },
  {
   "cell_type": "code",
   "execution_count": 28,
   "metadata": {},
   "outputs": [],
   "source": [
    "pred_y_rf = random.predict(X_test) "
   ]
  },
  {
   "cell_type": "code",
   "execution_count": 29,
   "metadata": {},
   "outputs": [
    {
     "data": {
      "image/png": "[encoded data removed]",
      "text/plain": [
       "<Figure size 432x288 with 2 Axes>"
      ]
     },
     "metadata": {
      "needs_background": "light"
     },
     "output_type": "display_data"
    }
   ],
   "source": [
    "cm = draw_cm( y_test, pred_y_rf ) \n",
    "cm"
   ]
  },
  {
   "cell_type": "code",
   "execution_count": 30,
   "metadata": {},
   "outputs": [
    {
     "name": "stdout",
     "output_type": "stream",
     "text": [
      "              precision    recall  f1-score   support\n",
      "\n",
      "           0       0.99      1.00      1.00     13955\n",
      "           1       1.00      0.99      1.00     14944\n",
      "\n",
      "    accuracy                           1.00     28899\n",
      "   macro avg       1.00      1.00      1.00     28899\n",
      "weighted avg       1.00      1.00      1.00     28899\n",
      "\n"
     ]
    }
   ],
   "source": [
    "print( metrics.classification_report( y_test, pred_y_rf) ) "
   ]
  },
  {
   "cell_type": "code",
   "execution_count": 31,
   "metadata": {},
   "outputs": [],
   "source": [
    "#deploying the model using pickle\n",
    "import pickle"
   ]
  },
  {
   "cell_type": "code",
   "execution_count": 32,
   "metadata": {},
   "outputs": [],
   "source": [
    "pickle.dump(random,open('model.pkl','wb'))"
   ]
  },
  {
   "cell_type": "code",
   "execution_count": 33,
   "metadata": {},
   "outputs": [],
   "source": [
    "model = pickle.load(open('model.pkl','rb'))"
   ]
  },
  {
   "cell_type": "code",
   "execution_count": 34,
   "metadata": {},
   "outputs": [
    {
     "name": "stdout",
     "output_type": "stream",
     "text": [
      "You will not default the loan\n"
     ]
    }
   ],
   "source": [
    "if (model.predict([[8000,8000,8000,36,7.49,2,32000,1,8050.31,8000.00,50.31]])==0):\n",
    "    print(\"You will default the loan\")\n",
    "else:\n",
    "    print(\"You will not default the loan\")"
   ]
  },
  {
   "cell_type": "code",
   "execution_count": null,
   "metadata": {},
   "outputs": [],
   "source": []
  }
 ],
 "metadata": {
  "kernelspec": {
   "display_name": "Python 3",
   "language": "python",
   "name": "python3"
  },
  "language_info": {
   "codemirror_mode": {
    "name": "ipython",
    "version": 3
   },
   "file_extension": ".py",
   "mimetype": "text/x-python",
   "name": "python",
   "nbconvert_exporter": "python",
   "pygments_lexer": "ipython3",
   "version": "3.7.3"
  }
 },
 "nbformat": 4,
 "nbformat_minor": 2
}
