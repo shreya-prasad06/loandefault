{
 "cells": [
  {
   "cell_type": "code",
   "execution_count": 1,
   "metadata": {},
   "outputs": [],
   "source": [
    "# Importing the necessary libraries.\n",
    "import matplotlib.pyplot as plt\n",
    "import seaborn as sn\n",
    "from sklearn.model_selection import train_test_split \n",
    "%matplotlib inline\n",
    "import warnings \n",
    "warnings.filterwarnings('ignore') \n",
    "import pandas as pd \n",
    "import numpy as np \n",
    "credit_df = pd.read_csv(\"loanStats.csv\") "
   ]
  },
  {
   "cell_type": "code",
   "execution_count": 2,
   "metadata": {},
   "outputs": [
    {
     "name": "stdout",
     "output_type": "stream",
     "text": [
      "<class 'pandas.core.frame.DataFrame'>\n",
      "RangeIndex: 104499 entries, 0 to 104498\n",
      "Data columns (total 14 columns):\n",
      "id                 104499 non-null int64\n",
      "member_id          104499 non-null int64\n",
      "loan_amnt          104499 non-null int64\n",
      "funded_amnt        104499 non-null int64\n",
      "funded_amnt_inv    104499 non-null int64\n",
      "term               104499 non-null int64\n",
      "int_rate           104499 non-null float64\n",
      "home_ownership     104499 non-null object\n",
      "annual_inc         104499 non-null int64\n",
      "purpose            104499 non-null object\n",
      "total_pymnt        104499 non-null float64\n",
      "total_rec_prncp    104499 non-null float64\n",
      "total_rec_int      104499 non-null float64\n",
      "loan_status        104499 non-null int64\n",
      "dtypes: float64(4), int64(8), object(2)\n",
      "memory usage: 11.2+ MB\n"
     ]
    }
   ],
   "source": [
    "#understanding the dataset\n",
    "credit_df.info()"
   ]
  },
  {
   "cell_type": "code",
   "execution_count": 3,
   "metadata": {},
   "outputs": [],
   "source": [
    "#ID columns will not be of any significance for the model so we remove it from the dataset\n",
    "credit_df=credit_df.drop(columns=['member_id','id'])"
   ]
  },
  {
   "cell_type": "code",
   "execution_count": 4,
   "metadata": {},
   "outputs": [
    {
     "data": {
      "text/plain": [
       "1    93692\n",
       "0    10807\n",
       "Name: loan_status, dtype: int64"
      ]
     },
     "execution_count": 4,
     "metadata": {},
     "output_type": "execute_result"
    }
   ],
   "source": [
    "#finding target variable count to check if the dataset is balanced or imbalanced\n",
    "credit_df.loan_status.value_counts() "
   ]
  },
  {
   "cell_type": "code",
   "execution_count": 5,
   "metadata": {},
   "outputs": [],
   "source": [
    "#the dataset is highly imbalanced so we upsample the dataset\n",
    "## Importing resample from *sklearn.utils* package. \n",
    "from sklearn.utils import resample \n",
    "# Separate the case of yes-subscribes and no-subscribes \n",
    "non_defaulters = credit_df[credit_df.loan_status == 1] \n",
    "defaulters = credit_df[credit_df.loan_status == 0] \n",
    "##Upsample the yes-subscribed cases. \n",
    "df_minority_upsampled = resample(defaulters, replace=True,  n_samples=80000) \n",
    "# Combine majority class with upsampled minority class \n",
    "credit_df = pd.concat([non_defaulters, df_minority_upsampled]) "
   ]
  },
  {
   "cell_type": "code",
   "execution_count": 6,
   "metadata": {},
   "outputs": [
    {
     "data": {
      "text/plain": [
       "1    93692\n",
       "0    80000\n",
       "Name: loan_status, dtype: int64"
      ]
     },
     "execution_count": 6,
     "metadata": {},
     "output_type": "execute_result"
    }
   ],
   "source": [
    "credit_df.loan_status.value_counts()"
   ]
  },
  {
   "cell_type": "code",
   "execution_count": 7,
   "metadata": {},
   "outputs": [
    {
     "data": {
      "text/plain": [
       "loan_amnt          0\n",
       "funded_amnt        0\n",
       "funded_amnt_inv    0\n",
       "term               0\n",
       "int_rate           0\n",
       "home_ownership     0\n",
       "annual_inc         0\n",
       "purpose            0\n",
       "total_pymnt        0\n",
       "total_rec_prncp    0\n",
       "total_rec_int      0\n",
       "loan_status        0\n",
       "dtype: int64"
      ]
     },
     "execution_count": 7,
     "metadata": {},
     "output_type": "execute_result"
    }
   ],
   "source": [
    "#checking for null values\n",
    "credit_df.isnull().sum()"
   ]
  },
  {
   "cell_type": "code",
   "execution_count": 8,
   "metadata": {},
   "outputs": [
    {
     "data": {
      "text/plain": [
       "debt_consolidation    93332\n",
       "credit_card           32434\n",
       "other                 26154\n",
       "home_improvement      21772\n",
       "Name: purpose, dtype: int64"
      ]
     },
     "execution_count": 8,
     "metadata": {},
     "output_type": "execute_result"
    }
   ],
   "source": [
    "credit_df.purpose.value_counts()"
   ]
  },
  {
   "cell_type": "code",
   "execution_count": 9,
   "metadata": {},
   "outputs": [],
   "source": [
    "credit_df = credit_df.fillna(\" \")"
   ]
  },
  {
   "cell_type": "code",
   "execution_count": 10,
   "metadata": {},
   "outputs": [
    {
     "data": {
      "text/html": [
       "<div>\n",
       "<style scoped>\n",
       "    .dataframe tbody tr th:only-of-type {\n",
       "        vertical-align: middle;\n",
       "    }\n",
       "\n",
       "    .dataframe tbody tr th {\n",
       "        vertical-align: top;\n",
       "    }\n",
       "\n",
       "    .dataframe thead th {\n",
       "        text-align: right;\n",
       "    }\n",
       "</style>\n",
       "<table border=\"1\" class=\"dataframe\">\n",
       "  <thead>\n",
       "    <tr style=\"text-align: right;\">\n",
       "      <th></th>\n",
       "      <th>loan_amnt</th>\n",
       "      <th>funded_amnt</th>\n",
       "      <th>funded_amnt_inv</th>\n",
       "      <th>term</th>\n",
       "      <th>int_rate</th>\n",
       "      <th>home_ownership</th>\n",
       "      <th>annual_inc</th>\n",
       "      <th>purpose</th>\n",
       "      <th>total_pymnt</th>\n",
       "      <th>total_rec_prncp</th>\n",
       "      <th>total_rec_int</th>\n",
       "      <th>loan_status</th>\n",
       "    </tr>\n",
       "  </thead>\n",
       "  <tbody>\n",
       "    <tr>\n",
       "      <th>0</th>\n",
       "      <td>5000</td>\n",
       "      <td>5000</td>\n",
       "      <td>4975</td>\n",
       "      <td>36</td>\n",
       "      <td>10.65</td>\n",
       "      <td>OWN</td>\n",
       "      <td>1896</td>\n",
       "      <td>credit_card</td>\n",
       "      <td>5861.07</td>\n",
       "      <td>5000.00</td>\n",
       "      <td>861.07</td>\n",
       "      <td>1</td>\n",
       "    </tr>\n",
       "    <tr>\n",
       "      <th>2</th>\n",
       "      <td>2400</td>\n",
       "      <td>2400</td>\n",
       "      <td>2400</td>\n",
       "      <td>36</td>\n",
       "      <td>15.96</td>\n",
       "      <td>OWN</td>\n",
       "      <td>3300</td>\n",
       "      <td>other</td>\n",
       "      <td>3003.65</td>\n",
       "      <td>2400.00</td>\n",
       "      <td>603.65</td>\n",
       "      <td>1</td>\n",
       "    </tr>\n",
       "    <tr>\n",
       "      <th>3</th>\n",
       "      <td>10000</td>\n",
       "      <td>10000</td>\n",
       "      <td>10000</td>\n",
       "      <td>36</td>\n",
       "      <td>13.49</td>\n",
       "      <td>OWN</td>\n",
       "      <td>3500</td>\n",
       "      <td>other</td>\n",
       "      <td>12226.30</td>\n",
       "      <td>10000.00</td>\n",
       "      <td>2209.33</td>\n",
       "      <td>1</td>\n",
       "    </tr>\n",
       "    <tr>\n",
       "      <th>4</th>\n",
       "      <td>3000</td>\n",
       "      <td>3000</td>\n",
       "      <td>3000</td>\n",
       "      <td>60</td>\n",
       "      <td>12.69</td>\n",
       "      <td>OWN</td>\n",
       "      <td>3600</td>\n",
       "      <td>other</td>\n",
       "      <td>2496.48</td>\n",
       "      <td>1615.66</td>\n",
       "      <td>880.82</td>\n",
       "      <td>1</td>\n",
       "    </tr>\n",
       "    <tr>\n",
       "      <th>5</th>\n",
       "      <td>5000</td>\n",
       "      <td>5000</td>\n",
       "      <td>5000</td>\n",
       "      <td>36</td>\n",
       "      <td>7.90</td>\n",
       "      <td>OWN</td>\n",
       "      <td>4000</td>\n",
       "      <td>other</td>\n",
       "      <td>5631.38</td>\n",
       "      <td>5000.00</td>\n",
       "      <td>631.38</td>\n",
       "      <td>1</td>\n",
       "    </tr>\n",
       "  </tbody>\n",
       "</table>\n",
       "</div>"
      ],
      "text/plain": [
       "   loan_amnt  funded_amnt  funded_amnt_inv  term  int_rate home_ownership  \\\n",
       "0       5000         5000             4975    36     10.65            OWN   \n",
       "2       2400         2400             2400    36     15.96            OWN   \n",
       "3      10000        10000            10000    36     13.49            OWN   \n",
       "4       3000         3000             3000    60     12.69            OWN   \n",
       "5       5000         5000             5000    36      7.90            OWN   \n",
       "\n",
       "   annual_inc      purpose  total_pymnt  total_rec_prncp  total_rec_int  \\\n",
       "0        1896  credit_card      5861.07          5000.00         861.07   \n",
       "2        3300        other      3003.65          2400.00         603.65   \n",
       "3        3500        other     12226.30         10000.00        2209.33   \n",
       "4        3600        other      2496.48          1615.66         880.82   \n",
       "5        4000        other      5631.38          5000.00         631.38   \n",
       "\n",
       "   loan_status  \n",
       "0            1  \n",
       "2            1  \n",
       "3            1  \n",
       "4            1  \n",
       "5            1  "
      ]
     },
     "execution_count": 10,
     "metadata": {},
     "output_type": "execute_result"
    }
   ],
   "source": [
    "#top 5 instances of the dataset\n",
    "credit_df.head()"
   ]
  },
  {
   "cell_type": "code",
   "execution_count": 11,
   "metadata": {},
   "outputs": [
    {
     "name": "stdout",
     "output_type": "stream",
     "text": [
      "Positive examples = 93692\n",
      "Negative examples = 80000\n",
      "Proportion of negative to positive examples = 85.39%\n"
     ]
    },
    {
     "data": {
      "image/png": "[encoded data removed]",
      "text/plain": [
       "<Figure size 576x432 with 1 Axes>"
      ]
     },
     "metadata": {
      "needs_background": "light"
     },
     "output_type": "display_data"
    }
   ],
   "source": [
    "# Get number of positve and negative examples\n",
    "pos = credit_df[credit_df[\"loan_status\"] == 1].shape[0]\n",
    "neg = credit_df[credit_df[\"loan_status\"] == 0].shape[0]\n",
    "print(f\"Positive examples = {pos}\")\n",
    "print(f\"Negative examples = {neg}\")\n",
    "print(f\"Proportion of negative to positive examples = {(neg / pos) * 100:.2f}%\")\n",
    "plt.figure(figsize=(8, 6))\n",
    "sn.countplot(credit_df[\"loan_status\"])\n",
    "plt.xticks((0, 1), [\"Not Paid fully\", \"Paid fully\"])\n",
    "plt.xlabel(\"\")\n",
    "plt.ylabel(\"Count\")\n",
    "plt.title(\"Class counts\", y=1, fontdict={\"fontsize\": 20});"
   ]
  },
  {
   "cell_type": "code",
   "execution_count": 12,
   "metadata": {},
   "outputs": [],
   "source": [
    "#replacing missing values with mean of their coulmns.\n",
    "credit_df['loan_amnt'].fillna((credit_df['loan_amnt'].mean()), inplace=True)\n",
    "credit_df['funded_amnt'].fillna((credit_df['funded_amnt'].mean()), inplace=True)\n",
    "credit_df['funded_amnt_inv'].fillna((credit_df['funded_amnt_inv'].mean()), inplace=True)\n",
    "credit_df['term'].fillna((credit_df['term'].mean()), inplace=True)\n",
    "credit_df['annual_inc'].fillna((credit_df['annual_inc'].mean()), inplace=True)\n",
    "credit_df['int_rate'].fillna((credit_df['int_rate'].mean()), inplace=True)\n",
    "credit_df['home_ownership'].fillna(('RENT'), inplace=True)\n",
    "credit_df['loan_status'].fillna((0), inplace=True)"
   ]
  },
  {
   "cell_type": "code",
   "execution_count": 13,
   "metadata": {},
   "outputs": [
    {
     "data": {
      "text/plain": [
       "loan_amnt          0\n",
       "funded_amnt        0\n",
       "funded_amnt_inv    0\n",
       "term               0\n",
       "int_rate           0\n",
       "home_ownership     0\n",
       "annual_inc         0\n",
       "purpose            0\n",
       "total_pymnt        0\n",
       "total_rec_prncp    0\n",
       "total_rec_int      0\n",
       "loan_status        0\n",
       "dtype: int64"
      ]
     },
     "execution_count": 13,
     "metadata": {},
     "output_type": "execute_result"
    }
   ],
   "source": [
    "credit_df.isnull().sum()"
   ]
  },
  {
   "cell_type": "code",
   "execution_count": 14,
   "metadata": {},
   "outputs": [
    {
     "data": {
      "text/html": [
       "<div>\n",
       "<style scoped>\n",
       "    .dataframe tbody tr th:only-of-type {\n",
       "        vertical-align: middle;\n",
       "    }\n",
       "\n",
       "    .dataframe tbody tr th {\n",
       "        vertical-align: top;\n",
       "    }\n",
       "\n",
       "    .dataframe thead th {\n",
       "        text-align: right;\n",
       "    }\n",
       "</style>\n",
       "<table border=\"1\" class=\"dataframe\">\n",
       "  <thead>\n",
       "    <tr style=\"text-align: right;\">\n",
       "      <th></th>\n",
       "      <th>loan_amnt</th>\n",
       "      <th>funded_amnt</th>\n",
       "      <th>funded_amnt_inv</th>\n",
       "      <th>term</th>\n",
       "      <th>int_rate</th>\n",
       "      <th>annual_inc</th>\n",
       "      <th>total_pymnt</th>\n",
       "      <th>total_rec_prncp</th>\n",
       "      <th>total_rec_int</th>\n",
       "      <th>loan_status</th>\n",
       "    </tr>\n",
       "  </thead>\n",
       "  <tbody>\n",
       "    <tr>\n",
       "      <th>count</th>\n",
       "      <td>173692.000000</td>\n",
       "      <td>173692.000000</td>\n",
       "      <td>173692.000000</td>\n",
       "      <td>173692.000000</td>\n",
       "      <td>173692.000000</td>\n",
       "      <td>1.736920e+05</td>\n",
       "      <td>173692.000000</td>\n",
       "      <td>173692.000000</td>\n",
       "      <td>173692.000000</td>\n",
       "      <td>173692.000000</td>\n",
       "    </tr>\n",
       "    <tr>\n",
       "      <th>mean</th>\n",
       "      <td>13162.390323</td>\n",
       "      <td>13014.651654</td>\n",
       "      <td>12569.257738</td>\n",
       "      <td>43.431223</td>\n",
       "      <td>14.204497</td>\n",
       "      <td>6.913756e+04</td>\n",
       "      <td>8052.662638</td>\n",
       "      <td>5759.517534</td>\n",
       "      <td>2105.589116</td>\n",
       "      <td>0.539415</td>\n",
       "    </tr>\n",
       "    <tr>\n",
       "      <th>std</th>\n",
       "      <td>8162.025947</td>\n",
       "      <td>8064.745623</td>\n",
       "      <td>8169.153892</td>\n",
       "      <td>11.096260</td>\n",
       "      <td>4.398661</td>\n",
       "      <td>7.825994e+04</td>\n",
       "      <td>6765.798419</td>\n",
       "      <td>5622.651838</td>\n",
       "      <td>2095.022456</td>\n",
       "      <td>0.498446</td>\n",
       "    </tr>\n",
       "    <tr>\n",
       "      <th>min</th>\n",
       "      <td>500.000000</td>\n",
       "      <td>500.000000</td>\n",
       "      <td>0.000000</td>\n",
       "      <td>36.000000</td>\n",
       "      <td>5.420000</td>\n",
       "      <td>1.896000e+03</td>\n",
       "      <td>0.000000</td>\n",
       "      <td>0.000000</td>\n",
       "      <td>0.000000</td>\n",
       "      <td>0.000000</td>\n",
       "    </tr>\n",
       "    <tr>\n",
       "      <th>25%</th>\n",
       "      <td>7000.000000</td>\n",
       "      <td>6900.000000</td>\n",
       "      <td>6000.000000</td>\n",
       "      <td>36.000000</td>\n",
       "      <td>10.990000</td>\n",
       "      <td>4.200000e+04</td>\n",
       "      <td>3429.360000</td>\n",
       "      <td>2015.330000</td>\n",
       "      <td>737.410000</td>\n",
       "      <td>0.000000</td>\n",
       "    </tr>\n",
       "    <tr>\n",
       "      <th>50%</th>\n",
       "      <td>11500.000000</td>\n",
       "      <td>11200.000000</td>\n",
       "      <td>10625.000000</td>\n",
       "      <td>36.000000</td>\n",
       "      <td>13.980000</td>\n",
       "      <td>5.700000e+04</td>\n",
       "      <td>6101.870000</td>\n",
       "      <td>3946.305000</td>\n",
       "      <td>1430.780000</td>\n",
       "      <td>1.000000</td>\n",
       "    </tr>\n",
       "    <tr>\n",
       "      <th>75%</th>\n",
       "      <td>18000.000000</td>\n",
       "      <td>18000.000000</td>\n",
       "      <td>17500.000000</td>\n",
       "      <td>60.000000</td>\n",
       "      <td>17.100000</td>\n",
       "      <td>8.278200e+04</td>\n",
       "      <td>10616.650000</td>\n",
       "      <td>7559.975000</td>\n",
       "      <td>2728.232500</td>\n",
       "      <td>1.000000</td>\n",
       "    </tr>\n",
       "    <tr>\n",
       "      <th>max</th>\n",
       "      <td>35000.000000</td>\n",
       "      <td>35000.000000</td>\n",
       "      <td>35000.000000</td>\n",
       "      <td>60.000000</td>\n",
       "      <td>26.060000</td>\n",
       "      <td>6.000000e+06</td>\n",
       "      <td>55758.200000</td>\n",
       "      <td>35000.000000</td>\n",
       "      <td>20848.700000</td>\n",
       "      <td>1.000000</td>\n",
       "    </tr>\n",
       "  </tbody>\n",
       "</table>\n",
       "</div>"
      ],
      "text/plain": [
       "           loan_amnt    funded_amnt  funded_amnt_inv           term  \\\n",
       "count  173692.000000  173692.000000    173692.000000  173692.000000   \n",
       "mean    13162.390323   13014.651654     12569.257738      43.431223   \n",
       "std      8162.025947    8064.745623      8169.153892      11.096260   \n",
       "min       500.000000     500.000000         0.000000      36.000000   \n",
       "25%      7000.000000    6900.000000      6000.000000      36.000000   \n",
       "50%     11500.000000   11200.000000     10625.000000      36.000000   \n",
       "75%     18000.000000   18000.000000     17500.000000      60.000000   \n",
       "max     35000.000000   35000.000000     35000.000000      60.000000   \n",
       "\n",
       "            int_rate    annual_inc    total_pymnt  total_rec_prncp  \\\n",
       "count  173692.000000  1.736920e+05  173692.000000    173692.000000   \n",
       "mean       14.204497  6.913756e+04    8052.662638      5759.517534   \n",
       "std         4.398661  7.825994e+04    6765.798419      5622.651838   \n",
       "min         5.420000  1.896000e+03       0.000000         0.000000   \n",
       "25%        10.990000  4.200000e+04    3429.360000      2015.330000   \n",
       "50%        13.980000  5.700000e+04    6101.870000      3946.305000   \n",
       "75%        17.100000  8.278200e+04   10616.650000      7559.975000   \n",
       "max        26.060000  6.000000e+06   55758.200000     35000.000000   \n",
       "\n",
       "       total_rec_int    loan_status  \n",
       "count  173692.000000  173692.000000  \n",
       "mean     2105.589116       0.539415  \n",
       "std      2095.022456       0.498446  \n",
       "min         0.000000       0.000000  \n",
       "25%       737.410000       0.000000  \n",
       "50%      1430.780000       1.000000  \n",
       "75%      2728.232500       1.000000  \n",
       "max     20848.700000       1.000000  "
      ]
     },
     "execution_count": 14,
     "metadata": {},
     "output_type": "execute_result"
    }
   ],
   "source": [
    "credit_df.describe()"
   ]
  },
  {
   "cell_type": "code",
   "execution_count": 15,
   "metadata": {},
   "outputs": [
    {
     "name": "stdout",
     "output_type": "stream",
     "text": [
      "loan_amnt          11000.0000\n",
      "funded_amnt        11100.0000\n",
      "funded_amnt_inv    11500.0000\n",
      "term                  24.0000\n",
      "int_rate               6.1100\n",
      "annual_inc         40782.0000\n",
      "total_pymnt         7187.2900\n",
      "total_rec_prncp     5544.6450\n",
      "total_rec_int       1990.8225\n",
      "loan_status            1.0000\n",
      "dtype: float64\n"
     ]
    }
   ],
   "source": [
    "#treating outliers using quantriles\n",
    "Q1 = credit_df.quantile(0.25)\n",
    "Q3 = credit_df.quantile(0.75)\n",
    "IQR = Q3 - Q1\n",
    "print(IQR)"
   ]
  },
  {
   "cell_type": "code",
   "execution_count": 16,
   "metadata": {},
   "outputs": [
    {
     "data": {
      "text/plain": [
       "(144505, 12)"
      ]
     },
     "execution_count": 16,
     "metadata": {},
     "output_type": "execute_result"
    }
   ],
   "source": [
    "credit_df = credit_df[~((credit_df < (Q1 - 1.5 * IQR)) |(credit_df > (Q3 + 1.5 * IQR))).any(axis=1)]\n",
    "credit_df.shape"
   ]
  },
  {
   "cell_type": "code",
   "execution_count": 17,
   "metadata": {},
   "outputs": [
    {
     "data": {
      "text/html": [
       "<div>\n",
       "<style scoped>\n",
       "    .dataframe tbody tr th:only-of-type {\n",
       "        vertical-align: middle;\n",
       "    }\n",
       "\n",
       "    .dataframe tbody tr th {\n",
       "        vertical-align: top;\n",
       "    }\n",
       "\n",
       "    .dataframe thead th {\n",
       "        text-align: right;\n",
       "    }\n",
       "</style>\n",
       "<table border=\"1\" class=\"dataframe\">\n",
       "  <thead>\n",
       "    <tr style=\"text-align: right;\">\n",
       "      <th></th>\n",
       "      <th>loan_amnt</th>\n",
       "      <th>funded_amnt</th>\n",
       "      <th>funded_amnt_inv</th>\n",
       "      <th>term</th>\n",
       "      <th>int_rate</th>\n",
       "      <th>annual_inc</th>\n",
       "      <th>total_pymnt</th>\n",
       "      <th>total_rec_prncp</th>\n",
       "      <th>total_rec_int</th>\n",
       "      <th>loan_status</th>\n",
       "    </tr>\n",
       "  </thead>\n",
       "  <tbody>\n",
       "    <tr>\n",
       "      <th>count</th>\n",
       "      <td>144505.000000</td>\n",
       "      <td>144505.000000</td>\n",
       "      <td>144505.000000</td>\n",
       "      <td>144505.000000</td>\n",
       "      <td>144505.000000</td>\n",
       "      <td>144505.000000</td>\n",
       "      <td>144505.000000</td>\n",
       "      <td>144505.000000</td>\n",
       "      <td>144505.000000</td>\n",
       "      <td>144505.000000</td>\n",
       "    </tr>\n",
       "    <tr>\n",
       "      <th>mean</th>\n",
       "      <td>11337.991938</td>\n",
       "      <td>11208.714058</td>\n",
       "      <td>10758.135393</td>\n",
       "      <td>42.416166</td>\n",
       "      <td>13.792888</td>\n",
       "      <td>61866.953254</td>\n",
       "      <td>6251.965992</td>\n",
       "      <td>4483.126212</td>\n",
       "      <td>1598.083202</td>\n",
       "      <td>0.514903</td>\n",
       "    </tr>\n",
       "    <tr>\n",
       "      <th>std</th>\n",
       "      <td>6658.879096</td>\n",
       "      <td>6570.117521</td>\n",
       "      <td>6670.492574</td>\n",
       "      <td>10.621750</td>\n",
       "      <td>4.212429</td>\n",
       "      <td>27291.763094</td>\n",
       "      <td>4124.674735</td>\n",
       "      <td>3540.045106</td>\n",
       "      <td>1244.638311</td>\n",
       "      <td>0.499780</td>\n",
       "    </tr>\n",
       "    <tr>\n",
       "      <th>min</th>\n",
       "      <td>500.000000</td>\n",
       "      <td>500.000000</td>\n",
       "      <td>0.000000</td>\n",
       "      <td>36.000000</td>\n",
       "      <td>5.420000</td>\n",
       "      <td>1896.000000</td>\n",
       "      <td>0.000000</td>\n",
       "      <td>0.000000</td>\n",
       "      <td>0.000000</td>\n",
       "      <td>0.000000</td>\n",
       "    </tr>\n",
       "    <tr>\n",
       "      <th>25%</th>\n",
       "      <td>6000.000000</td>\n",
       "      <td>6000.000000</td>\n",
       "      <td>5600.000000</td>\n",
       "      <td>36.000000</td>\n",
       "      <td>10.990000</td>\n",
       "      <td>42000.000000</td>\n",
       "      <td>3088.300000</td>\n",
       "      <td>1830.430000</td>\n",
       "      <td>664.510000</td>\n",
       "      <td>0.000000</td>\n",
       "    </tr>\n",
       "    <tr>\n",
       "      <th>50%</th>\n",
       "      <td>10000.000000</td>\n",
       "      <td>10000.000000</td>\n",
       "      <td>9975.000000</td>\n",
       "      <td>36.000000</td>\n",
       "      <td>13.670000</td>\n",
       "      <td>55000.000000</td>\n",
       "      <td>5401.200000</td>\n",
       "      <td>3483.670000</td>\n",
       "      <td>1256.060000</td>\n",
       "      <td>1.000000</td>\n",
       "    </tr>\n",
       "    <tr>\n",
       "      <th>75%</th>\n",
       "      <td>15000.000000</td>\n",
       "      <td>15000.000000</td>\n",
       "      <td>14975.000000</td>\n",
       "      <td>60.000000</td>\n",
       "      <td>16.290000</td>\n",
       "      <td>78200.000000</td>\n",
       "      <td>8625.480000</td>\n",
       "      <td>6211.130000</td>\n",
       "      <td>2218.250000</td>\n",
       "      <td>1.000000</td>\n",
       "    </tr>\n",
       "    <tr>\n",
       "      <th>max</th>\n",
       "      <td>34475.000000</td>\n",
       "      <td>34475.000000</td>\n",
       "      <td>34475.000000</td>\n",
       "      <td>60.000000</td>\n",
       "      <td>26.060000</td>\n",
       "      <td>143881.000000</td>\n",
       "      <td>21215.100000</td>\n",
       "      <td>15875.000000</td>\n",
       "      <td>5713.880000</td>\n",
       "      <td>1.000000</td>\n",
       "    </tr>\n",
       "  </tbody>\n",
       "</table>\n",
       "</div>"
      ],
      "text/plain": [
       "           loan_amnt    funded_amnt  funded_amnt_inv           term  \\\n",
       "count  144505.000000  144505.000000    144505.000000  144505.000000   \n",
       "mean    11337.991938   11208.714058     10758.135393      42.416166   \n",
       "std      6658.879096    6570.117521      6670.492574      10.621750   \n",
       "min       500.000000     500.000000         0.000000      36.000000   \n",
       "25%      6000.000000    6000.000000      5600.000000      36.000000   \n",
       "50%     10000.000000   10000.000000      9975.000000      36.000000   \n",
       "75%     15000.000000   15000.000000     14975.000000      60.000000   \n",
       "max     34475.000000   34475.000000     34475.000000      60.000000   \n",
       "\n",
       "            int_rate     annual_inc    total_pymnt  total_rec_prncp  \\\n",
       "count  144505.000000  144505.000000  144505.000000    144505.000000   \n",
       "mean       13.792888   61866.953254    6251.965992      4483.126212   \n",
       "std         4.212429   27291.763094    4124.674735      3540.045106   \n",
       "min         5.420000    1896.000000       0.000000         0.000000   \n",
       "25%        10.990000   42000.000000    3088.300000      1830.430000   \n",
       "50%        13.670000   55000.000000    5401.200000      3483.670000   \n",
       "75%        16.290000   78200.000000    8625.480000      6211.130000   \n",
       "max        26.060000  143881.000000   21215.100000     15875.000000   \n",
       "\n",
       "       total_rec_int    loan_status  \n",
       "count  144505.000000  144505.000000  \n",
       "mean     1598.083202       0.514903  \n",
       "std      1244.638311       0.499780  \n",
       "min         0.000000       0.000000  \n",
       "25%       664.510000       0.000000  \n",
       "50%      1256.060000       1.000000  \n",
       "75%      2218.250000       1.000000  \n",
       "max      5713.880000       1.000000  "
      ]
     },
     "execution_count": 17,
     "metadata": {},
     "output_type": "execute_result"
    }
   ],
   "source": [
    "credit_df.describe()"
   ]
  },
  {
   "cell_type": "code",
   "execution_count": 18,
   "metadata": {},
   "outputs": [
    {
     "data": {
      "text/plain": [
       "loan_amnt            int64\n",
       "funded_amnt          int64\n",
       "funded_amnt_inv      int64\n",
       "term                 int64\n",
       "int_rate           float64\n",
       "home_ownership       int32\n",
       "annual_inc           int64\n",
       "purpose              int32\n",
       "total_pymnt        float64\n",
       "total_rec_prncp    float64\n",
       "total_rec_int      float64\n",
       "loan_status          int64\n",
       "dtype: object"
      ]
     },
     "execution_count": 18,
     "metadata": {},
     "output_type": "execute_result"
    }
   ],
   "source": [
    "#converting categorical variables to numeric using label encoding\n",
    "from sklearn import preprocessing\n",
    "from sklearn.preprocessing import LabelEncoder\n",
    "cat=['home_ownership','purpose']\n",
    "for var in cat:\n",
    "    le = preprocessing.LabelEncoder()\n",
    "    credit_df[var]=le.fit_transform(credit_df[var].astype('str'))\n",
    "credit_df.dtypes"
   ]
  },
  {
   "cell_type": "code",
   "execution_count": 19,
   "metadata": {},
   "outputs": [
    {
     "data": {
      "text/html": [
       "<div>\n",
       "<style scoped>\n",
       "    .dataframe tbody tr th:only-of-type {\n",
       "        vertical-align: middle;\n",
       "    }\n",
       "\n",
       "    .dataframe tbody tr th {\n",
       "        vertical-align: top;\n",
       "    }\n",
       "\n",
       "    .dataframe thead th {\n",
       "        text-align: right;\n",
       "    }\n",
       "</style>\n",
       "<table border=\"1\" class=\"dataframe\">\n",
       "  <thead>\n",
       "    <tr style=\"text-align: right;\">\n",
       "      <th></th>\n",
       "      <th>loan_amnt</th>\n",
       "      <th>funded_amnt</th>\n",
       "      <th>funded_amnt_inv</th>\n",
       "      <th>term</th>\n",
       "      <th>int_rate</th>\n",
       "      <th>home_ownership</th>\n",
       "      <th>annual_inc</th>\n",
       "      <th>purpose</th>\n",
       "      <th>total_pymnt</th>\n",
       "      <th>total_rec_prncp</th>\n",
       "      <th>total_rec_int</th>\n",
       "      <th>loan_status</th>\n",
       "    </tr>\n",
       "  </thead>\n",
       "  <tbody>\n",
       "    <tr>\n",
       "      <th>0</th>\n",
       "      <td>5000</td>\n",
       "      <td>5000</td>\n",
       "      <td>4975</td>\n",
       "      <td>36</td>\n",
       "      <td>10.65</td>\n",
       "      <td>1</td>\n",
       "      <td>1896</td>\n",
       "      <td>0</td>\n",
       "      <td>5861.07</td>\n",
       "      <td>5000.00</td>\n",
       "      <td>861.07</td>\n",
       "      <td>1</td>\n",
       "    </tr>\n",
       "    <tr>\n",
       "      <th>2</th>\n",
       "      <td>2400</td>\n",
       "      <td>2400</td>\n",
       "      <td>2400</td>\n",
       "      <td>36</td>\n",
       "      <td>15.96</td>\n",
       "      <td>1</td>\n",
       "      <td>3300</td>\n",
       "      <td>3</td>\n",
       "      <td>3003.65</td>\n",
       "      <td>2400.00</td>\n",
       "      <td>603.65</td>\n",
       "      <td>1</td>\n",
       "    </tr>\n",
       "    <tr>\n",
       "      <th>3</th>\n",
       "      <td>10000</td>\n",
       "      <td>10000</td>\n",
       "      <td>10000</td>\n",
       "      <td>36</td>\n",
       "      <td>13.49</td>\n",
       "      <td>1</td>\n",
       "      <td>3500</td>\n",
       "      <td>3</td>\n",
       "      <td>12226.30</td>\n",
       "      <td>10000.00</td>\n",
       "      <td>2209.33</td>\n",
       "      <td>1</td>\n",
       "    </tr>\n",
       "    <tr>\n",
       "      <th>4</th>\n",
       "      <td>3000</td>\n",
       "      <td>3000</td>\n",
       "      <td>3000</td>\n",
       "      <td>60</td>\n",
       "      <td>12.69</td>\n",
       "      <td>1</td>\n",
       "      <td>3600</td>\n",
       "      <td>3</td>\n",
       "      <td>2496.48</td>\n",
       "      <td>1615.66</td>\n",
       "      <td>880.82</td>\n",
       "      <td>1</td>\n",
       "    </tr>\n",
       "    <tr>\n",
       "      <th>5</th>\n",
       "      <td>5000</td>\n",
       "      <td>5000</td>\n",
       "      <td>5000</td>\n",
       "      <td>36</td>\n",
       "      <td>7.90</td>\n",
       "      <td>1</td>\n",
       "      <td>4000</td>\n",
       "      <td>3</td>\n",
       "      <td>5631.38</td>\n",
       "      <td>5000.00</td>\n",
       "      <td>631.38</td>\n",
       "      <td>1</td>\n",
       "    </tr>\n",
       "  </tbody>\n",
       "</table>\n",
       "</div>"
      ],
      "text/plain": [
       "   loan_amnt  funded_amnt  funded_amnt_inv  term  int_rate  home_ownership  \\\n",
       "0       5000         5000             4975    36     10.65               1   \n",
       "2       2400         2400             2400    36     15.96               1   \n",
       "3      10000        10000            10000    36     13.49               1   \n",
       "4       3000         3000             3000    60     12.69               1   \n",
       "5       5000         5000             5000    36      7.90               1   \n",
       "\n",
       "   annual_inc  purpose  total_pymnt  total_rec_prncp  total_rec_int  \\\n",
       "0        1896        0      5861.07          5000.00         861.07   \n",
       "2        3300        3      3003.65          2400.00         603.65   \n",
       "3        3500        3     12226.30         10000.00        2209.33   \n",
       "4        3600        3      2496.48          1615.66         880.82   \n",
       "5        4000        3      5631.38          5000.00         631.38   \n",
       "\n",
       "   loan_status  \n",
       "0            1  \n",
       "2            1  \n",
       "3            1  \n",
       "4            1  \n",
       "5            1  "
      ]
     },
     "execution_count": 19,
     "metadata": {},
     "output_type": "execute_result"
    }
   ],
   "source": [
    "#final dataset after preprocessing\n",
    "credit_df.head()"
   ]
  },
  {
   "cell_type": "code",
   "execution_count": 20,
   "metadata": {},
   "outputs": [
    {
     "name": "stdout",
     "output_type": "stream",
     "text": [
      "(115604, 11)\n",
      "(28901, 11)\n",
      "(115604, 1)\n",
      "(28901, 1)\n"
     ]
    }
   ],
   "source": [
    "#spliting variables into features and targets and hennce into train and test sets\n",
    "features = credit_df.drop(columns=['loan_status'])\n",
    "targets = pd.DataFrame(credit_df['loan_status'])\n",
    "\n",
    "# Split into 80% training and 20% testing set\n",
    "X_train, X_test, y_train, y_test = train_test_split(features, targets, test_size = 0.2)\n",
    "\n",
    "print(X_train.shape)\n",
    "print(X_test.shape)\n",
    "print(y_train.shape)\n",
    "print(y_test.shape)"
   ]
  },
  {
   "cell_type": "code",
   "execution_count": 21,
   "metadata": {},
   "outputs": [],
   "source": [
    "# # # Models to Evaluate\n",
    "# We will compare three different machine learning Cassification models:\n",
    "# 1 - Naive Bayes\n",
    "# 2 - Logistic Regression\n",
    "# 3 - Random Forest Classification\n",
    "\n",
    "# Function to calculate mean absolute error\n",
    "def cross_val(X_train, y_train, model):\n",
    "    # Applying k-Fold Cross Validation\n",
    "    from sklearn.model_selection import cross_val_score\n",
    "    accuracies = cross_val_score(estimator = model, X = X_train, y = y_train, cv = 5)\n",
    "    return accuracies.mean()\n",
    "\n",
    "# Takes in a model, trains the model, and evaluates the model on the test set\n",
    "def fit_and_evaluate(model):\n",
    "    \n",
    "    # Train the model\n",
    "    model.fit(X_train, y_train)\n",
    "    \n",
    "    # Make predictions and evalute\n",
    "    model_pred = model.predict(X_test)\n",
    "    model_cross = cross_val(X_train, y_train, model)\n",
    "    \n",
    "    # Return the performance metric\n",
    "    return model_cross"
   ]
  },
  {
   "cell_type": "code",
   "execution_count": 22,
   "metadata": {},
   "outputs": [],
   "source": [
    "# # Feature Scaling\n",
    "from sklearn.preprocessing import StandardScaler\n",
    "sc = StandardScaler()\n",
    "X_train = sc.fit_transform(X_train)\n",
    "X_test = sc.transform(X_test)"
   ]
  },
  {
   "cell_type": "code",
   "execution_count": 23,
   "metadata": {},
   "outputs": [],
   "source": [
    "# Convert y to one-dimensional array (vector)\n",
    "y_train = np.array(y_train).reshape((-1, ))\n",
    "y_test = np.array(y_test).reshape((-1, ))"
   ]
  },
  {
   "cell_type": "code",
   "execution_count": 24,
   "metadata": {},
   "outputs": [
    {
     "data": {
      "text/plain": [
       "1    66339\n",
       "0    65393\n",
       "2    12773\n",
       "Name: home_ownership, dtype: int64"
      ]
     },
     "execution_count": 24,
     "metadata": {},
     "output_type": "execute_result"
    }
   ],
   "source": [
    "credit_df.home_ownership.value_counts()"
   ]
  },
  {
   "cell_type": "code",
   "execution_count": 25,
   "metadata": {},
   "outputs": [
    {
     "name": "stdout",
     "output_type": "stream",
     "text": [
      "Naive Bayes Performance on the test set: Cross Validation Score = 0.7028\n"
     ]
    }
   ],
   "source": [
    "# # Naive Bayes\n",
    "from sklearn.naive_bayes import GaussianNB\n",
    "naive = GaussianNB()\n",
    "naive_cross = fit_and_evaluate(naive)\n",
    "\n",
    "print('Naive Bayes Performance on the test set: Cross Validation Score = %0.4f' % naive_cross)"
   ]
  },
  {
   "cell_type": "code",
   "execution_count": 26,
   "metadata": {},
   "outputs": [
    {
     "name": "stdout",
     "output_type": "stream",
     "text": [
      "logistic regression Classification Performance on the test set: Cross Validation Score = 0.8202\n"
     ]
    }
   ],
   "source": [
    "# # logistic regression Classification\n",
    "from sklearn.linear_model import LogisticRegression\n",
    "lr = LogisticRegression()\n",
    "lr_cross = fit_and_evaluate(lr)\n",
    "\n",
    "print('logistic regression Classification Performance on the test set: Cross Validation Score = %0.4f' % lr_cross)"
   ]
  },
  {
   "cell_type": "code",
   "execution_count": 27,
   "metadata": {},
   "outputs": [],
   "source": [
    "pred_y_lr = lr.predict(X_test) "
   ]
  },
  {
   "cell_type": "code",
   "execution_count": 28,
   "metadata": {},
   "outputs": [],
   "source": [
    "from sklearn import metrics\n",
    "import matplotlib.pyplot as plt\n",
    "import seaborn as sn\n",
    "%matplotlib inline\n",
    "def draw_cm( actual, predicted ):      \n",
    "    cm = metrics.confusion_matrix( actual, predicted, [1,0] )    \n",
    "    sn.heatmap(cm, annot=True,  fmt='.2f',  xticklabels = [\"Good credit\", \"Bad Credit\"] , yticklabels = [\"Good credit\", \"Bad Credit\"] )    \n",
    "    plt.ylabel('True label')    \n",
    "    plt.xlabel('Predicted label')    \n",
    "    plt.show() "
   ]
  },
  {
   "cell_type": "code",
   "execution_count": 29,
   "metadata": {},
   "outputs": [
    {
     "data": {
      "image/png": "[encoded data removed]",
      "text/plain": [
       "<Figure size 432x288 with 2 Axes>"
      ]
     },
     "metadata": {
      "needs_background": "light"
     },
     "output_type": "display_data"
    },
    {
     "name": "stdout",
     "output_type": "stream",
     "text": [
      "              precision    recall  f1-score   support\n",
      "\n",
      "           0       0.84      0.78      0.81     14083\n",
      "           1       0.81      0.86      0.83     14818\n",
      "\n",
      "    accuracy                           0.82     28901\n",
      "   macro avg       0.82      0.82      0.82     28901\n",
      "weighted avg       0.82      0.82      0.82     28901\n",
      "\n"
     ]
    }
   ],
   "source": [
    "#drawing confusion matrix\n",
    "cm = draw_cm( y_test, pred_y_lr ) \n",
    "cm\n",
    "print( metrics.classification_report( y_test, pred_y_lr) ) "
   ]
  },
  {
   "cell_type": "code",
   "execution_count": 30,
   "metadata": {},
   "outputs": [
    {
     "name": "stdout",
     "output_type": "stream",
     "text": [
      "Random Forest Performance on the test set: Cross Validation Score = 0.9942\n"
     ]
    }
   ],
   "source": [
    "# # Random Forest Classification\n",
    "from sklearn.ensemble import RandomForestClassifier\n",
    "random = RandomForestClassifier(n_estimators = 10, criterion = 'entropy')\n",
    "random_cross = fit_and_evaluate(random)\n",
    "\n",
    "print('Random Forest Performance on the test set: Cross Validation Score = %0.4f' % random_cross)"
   ]
  },
  {
   "cell_type": "code",
   "execution_count": 31,
   "metadata": {},
   "outputs": [],
   "source": [
    "pred_y_rf = random.predict(X_test) "
   ]
  },
  {
   "cell_type": "code",
   "execution_count": 32,
   "metadata": {},
   "outputs": [
    {
     "data": {
      "image/png": "[encoded data removed]",
      "text/plain": [
       "<Figure size 432x288 with 2 Axes>"
      ]
     },
     "metadata": {
      "needs_background": "light"
     },
     "output_type": "display_data"
    }
   ],
   "source": [
    "cm = draw_cm( y_test, pred_y_rf ) \n",
    "cm"
   ]
  },
  {
   "cell_type": "code",
   "execution_count": 33,
   "metadata": {},
   "outputs": [
    {
     "name": "stdout",
     "output_type": "stream",
     "text": [
      "              precision    recall  f1-score   support\n",
      "\n",
      "           0       0.99      1.00      1.00     14083\n",
      "           1       1.00      0.99      1.00     14818\n",
      "\n",
      "    accuracy                           1.00     28901\n",
      "   macro avg       1.00      1.00      1.00     28901\n",
      "weighted avg       1.00      1.00      1.00     28901\n",
      "\n"
     ]
    }
   ],
   "source": [
    "print( metrics.classification_report( y_test, pred_y_rf) ) "
   ]
  },
  {
   "cell_type": "code",
   "execution_count": 34,
   "metadata": {},
   "outputs": [],
   "source": [
    "#deploying the model using pickle\n",
    "import pickle"
   ]
  },
  {
   "cell_type": "code",
   "execution_count": 35,
   "metadata": {},
   "outputs": [],
   "source": [
    "pickle.dump(random,open('model.pkl','wb'))"
   ]
  },
  {
   "cell_type": "code",
   "execution_count": 36,
   "metadata": {},
   "outputs": [],
   "source": [
    "model = pickle.load(open('model.pkl','rb'))"
   ]
  },
  {
   "cell_type": "code",
   "execution_count": 37,
   "metadata": {},
   "outputs": [
    {
     "name": "stdout",
     "output_type": "stream",
     "text": [
      "You will not default the loan\n"
     ]
    }
   ],
   "source": [
    "if (model.predict([[8000,8000,8000,36,7.49,2,32000,1,8050.31,8000.00,50.31]])==0):\n",
    "    print(\"You will default the loan\")\n",
    "else:\n",
    "    print(\"You will not default the loan\")"
   ]
  },
  {
   "cell_type": "code",
   "execution_count": 38,
   "metadata": {},
   "outputs": [
    {
     "name": "stdout",
     "output_type": "stream",
     "text": [
      "You will default the loan\n"
     ]
    }
   ],
   "source": [
    "#Final prediction\n",
    "if (model.predict([[5600,5600,5600,60,21.28,2,4080,3,646.02,162.02,294.95]])==0):\n",
    "    print(\"You will default the loan\")\n",
    "else:\n",
    "    print(\"You will not default the loan\")"
   ]
  },
  {
   "cell_type": "code",
   "execution_count": null,
   "metadata": {},
   "outputs": [],
   "source": []
  }
 ],
 "metadata": {
  "kernelspec": {
   "display_name": "Python 3",
   "language": "python",
   "name": "python3"
  },
  "language_info": {
   "codemirror_mode": {
    "name": "ipython",
    "version": 3
   },
   "file_extension": ".py",
   "mimetype": "text/x-python",
   "name": "python",
   "nbconvert_exporter": "python",
   "pygments_lexer": "ipython3",
   "version": "3.7.3"
  }
 },
 "nbformat": 4,
 "nbformat_minor": 2
}
